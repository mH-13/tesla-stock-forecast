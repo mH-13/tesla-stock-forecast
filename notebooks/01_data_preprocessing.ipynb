{
  "cells": [
    {
      "cell_type": "markdown",
      "metadata": {},
      "source": [
        "# 01_data_preprocessing.ipynb  \n",
        "_Load, inspect, clean raw Tesla data and save cleaned CSV_"
      ]
    },
    {
      "cell_type": "code",
      "execution_count": 5,
      "metadata": {},
      "outputs": [],
      "source": [
        "import os\n",
        "import pandas as pd\n",
        "\n",
        "# Visualization libraries (we’ll use these more in Notebook 02)\n",
        "import matplotlib.pyplot as plt\n",
        "import seaborn as sns\n",
        "\n",
        "# For time series date handling\n",
        "from datetime import datetime\n",
        "\n",
        "\n",
        "# Ensure directories exist\n",
        "os.makedirs(\"data/processed\", exist_ok=True)\n",
        "os.makedirs(\"reports/figures\", exist_ok=True)"
      ]
    },
    {
      "cell_type": "markdown",
      "metadata": {},
      "source": [
        "## 1. Load raw data"
      ]
    },
    {
      "cell_type": "code",
      "execution_count": 10,
      "metadata": {},
      "outputs": [
        {
          "data": {
            "text/html": [
              "<div>\n",
              "<style scoped>\n",
              "    .dataframe tbody tr th:only-of-type {\n",
              "        vertical-align: middle;\n",
              "    }\n",
              "\n",
              "    .dataframe tbody tr th {\n",
              "        vertical-align: top;\n",
              "    }\n",
              "\n",
              "    .dataframe thead th {\n",
              "        text-align: right;\n",
              "    }\n",
              "</style>\n",
              "<table border=\"1\" class=\"dataframe\">\n",
              "  <thead>\n",
              "    <tr style=\"text-align: right;\">\n",
              "      <th></th>\n",
              "      <th>Unnamed: 0</th>\n",
              "      <th>Date</th>\n",
              "      <th>Open</th>\n",
              "      <th>High</th>\n",
              "      <th>Low</th>\n",
              "      <th>Close</th>\n",
              "      <th>Volume</th>\n",
              "    </tr>\n",
              "  </thead>\n",
              "  <tbody>\n",
              "    <tr>\n",
              "      <th>0</th>\n",
              "      <td>0</td>\n",
              "      <td>2015-01-02</td>\n",
              "      <td>14.858000</td>\n",
              "      <td>14.883333</td>\n",
              "      <td>14.217333</td>\n",
              "      <td>14.620667</td>\n",
              "      <td>71466000</td>\n",
              "    </tr>\n",
              "    <tr>\n",
              "      <th>1</th>\n",
              "      <td>1</td>\n",
              "      <td>2015-01-05</td>\n",
              "      <td>14.303333</td>\n",
              "      <td>14.433333</td>\n",
              "      <td>13.810667</td>\n",
              "      <td>14.006000</td>\n",
              "      <td>80527500</td>\n",
              "    </tr>\n",
              "    <tr>\n",
              "      <th>2</th>\n",
              "      <td>2</td>\n",
              "      <td>2015-01-06</td>\n",
              "      <td>14.004000</td>\n",
              "      <td>14.280000</td>\n",
              "      <td>13.614000</td>\n",
              "      <td>14.085333</td>\n",
              "      <td>93928500</td>\n",
              "    </tr>\n",
              "    <tr>\n",
              "      <th>3</th>\n",
              "      <td>3</td>\n",
              "      <td>2015-01-07</td>\n",
              "      <td>14.223333</td>\n",
              "      <td>14.318667</td>\n",
              "      <td>13.985333</td>\n",
              "      <td>14.063333</td>\n",
              "      <td>44526000</td>\n",
              "    </tr>\n",
              "    <tr>\n",
              "      <th>4</th>\n",
              "      <td>4</td>\n",
              "      <td>2015-01-08</td>\n",
              "      <td>14.187333</td>\n",
              "      <td>14.253333</td>\n",
              "      <td>14.000667</td>\n",
              "      <td>14.041333</td>\n",
              "      <td>51637500</td>\n",
              "    </tr>\n",
              "  </tbody>\n",
              "</table>\n",
              "</div>"
            ],
            "text/plain": [
              "   Unnamed: 0       Date       Open       High        Low      Close    Volume\n",
              "0           0 2015-01-02  14.858000  14.883333  14.217333  14.620667  71466000\n",
              "1           1 2015-01-05  14.303333  14.433333  13.810667  14.006000  80527500\n",
              "2           2 2015-01-06  14.004000  14.280000  13.614000  14.085333  93928500\n",
              "3           3 2015-01-07  14.223333  14.318667  13.985333  14.063333  44526000\n",
              "4           4 2015-01-08  14.187333  14.253333  14.000667  14.041333  51637500"
            ]
          },
          "execution_count": 10,
          "metadata": {},
          "output_type": "execute_result"
        }
      ],
      "source": [
        "\n",
        "import os\n",
        "os.chdir('..')  # Change directory to the project root\n",
        "raw_path = \"data/raw/Tasla_Stock_Updated_V2.csv\"\n",
        "\n",
        "df_raw = pd.read_csv(raw_path, parse_dates=[\"Date\"])\n",
        "df_raw.sort_values(\"Date\", inplace=True)\n",
        "df_raw.head()"
      ]
    },
    {
      "cell_type": "markdown",
      "metadata": {},
      "source": [
        "## 2. Inspect for nulls & basic stats"
      ]
    },
    {
      "cell_type": "code",
      "execution_count": 12,
      "metadata": {},
      "outputs": [
        {
          "name": "stdout",
          "output_type": "stream",
          "text": [
            "Unnamed: 0    0\n",
            "Date          0\n",
            "Open          0\n",
            "High          0\n",
            "Low           0\n",
            "Close         0\n",
            "Volume        0\n",
            "dtype: int64\n"
          ]
        },
        {
          "data": {
            "text/html": [
              "<div>\n",
              "<style scoped>\n",
              "    .dataframe tbody tr th:only-of-type {\n",
              "        vertical-align: middle;\n",
              "    }\n",
              "\n",
              "    .dataframe tbody tr th {\n",
              "        vertical-align: top;\n",
              "    }\n",
              "\n",
              "    .dataframe thead th {\n",
              "        text-align: right;\n",
              "    }\n",
              "</style>\n",
              "<table border=\"1\" class=\"dataframe\">\n",
              "  <thead>\n",
              "    <tr style=\"text-align: right;\">\n",
              "      <th></th>\n",
              "      <th>Unnamed: 0</th>\n",
              "      <th>Date</th>\n",
              "      <th>Open</th>\n",
              "      <th>High</th>\n",
              "      <th>Low</th>\n",
              "      <th>Close</th>\n",
              "      <th>Volume</th>\n",
              "    </tr>\n",
              "  </thead>\n",
              "  <tbody>\n",
              "    <tr>\n",
              "      <th>count</th>\n",
              "      <td>2274.000000</td>\n",
              "      <td>2274</td>\n",
              "      <td>2274.000000</td>\n",
              "      <td>2274.000000</td>\n",
              "      <td>2274.000000</td>\n",
              "      <td>2274.000000</td>\n",
              "      <td>2.274000e+03</td>\n",
              "    </tr>\n",
              "    <tr>\n",
              "      <th>mean</th>\n",
              "      <td>1136.500000</td>\n",
              "      <td>2019-07-09 01:31:11.240105472</td>\n",
              "      <td>103.493730</td>\n",
              "      <td>105.771617</td>\n",
              "      <td>101.036327</td>\n",
              "      <td>103.461794</td>\n",
              "      <td>1.142089e+08</td>\n",
              "    </tr>\n",
              "    <tr>\n",
              "      <th>min</th>\n",
              "      <td>0.000000</td>\n",
              "      <td>2015-01-02 00:00:00</td>\n",
              "      <td>9.488000</td>\n",
              "      <td>10.331333</td>\n",
              "      <td>9.403333</td>\n",
              "      <td>9.578000</td>\n",
              "      <td>1.062000e+07</td>\n",
              "    </tr>\n",
              "    <tr>\n",
              "      <th>25%</th>\n",
              "      <td>568.250000</td>\n",
              "      <td>2017-04-05 06:00:00</td>\n",
              "      <td>16.669833</td>\n",
              "      <td>16.933332</td>\n",
              "      <td>16.468833</td>\n",
              "      <td>16.693666</td>\n",
              "      <td>6.637762e+07</td>\n",
              "    </tr>\n",
              "    <tr>\n",
              "      <th>50%</th>\n",
              "      <td>1136.500000</td>\n",
              "      <td>2019-07-10 12:00:00</td>\n",
              "      <td>23.221334</td>\n",
              "      <td>23.554000</td>\n",
              "      <td>22.842334</td>\n",
              "      <td>23.197333</td>\n",
              "      <td>9.359855e+07</td>\n",
              "    </tr>\n",
              "    <tr>\n",
              "      <th>75%</th>\n",
              "      <td>1704.750000</td>\n",
              "      <td>2021-10-10 06:00:00</td>\n",
              "      <td>215.272503</td>\n",
              "      <td>219.629173</td>\n",
              "      <td>208.983334</td>\n",
              "      <td>215.227497</td>\n",
              "      <td>1.338214e+08</td>\n",
              "    </tr>\n",
              "    <tr>\n",
              "      <th>max</th>\n",
              "      <td>2273.000000</td>\n",
              "      <td>2024-01-16 00:00:00</td>\n",
              "      <td>411.470001</td>\n",
              "      <td>414.496674</td>\n",
              "      <td>405.666656</td>\n",
              "      <td>409.970001</td>\n",
              "      <td>9.140820e+08</td>\n",
              "    </tr>\n",
              "    <tr>\n",
              "      <th>std</th>\n",
              "      <td>656.591578</td>\n",
              "      <td>NaN</td>\n",
              "      <td>111.136174</td>\n",
              "      <td>113.606095</td>\n",
              "      <td>108.399966</td>\n",
              "      <td>111.032019</td>\n",
              "      <td>7.688430e+07</td>\n",
              "    </tr>\n",
              "  </tbody>\n",
              "</table>\n",
              "</div>"
            ],
            "text/plain": [
              "        Unnamed: 0                           Date         Open         High  \\\n",
              "count  2274.000000                           2274  2274.000000  2274.000000   \n",
              "mean   1136.500000  2019-07-09 01:31:11.240105472   103.493730   105.771617   \n",
              "min       0.000000            2015-01-02 00:00:00     9.488000    10.331333   \n",
              "25%     568.250000            2017-04-05 06:00:00    16.669833    16.933332   \n",
              "50%    1136.500000            2019-07-10 12:00:00    23.221334    23.554000   \n",
              "75%    1704.750000            2021-10-10 06:00:00   215.272503   219.629173   \n",
              "max    2273.000000            2024-01-16 00:00:00   411.470001   414.496674   \n",
              "std     656.591578                            NaN   111.136174   113.606095   \n",
              "\n",
              "               Low        Close        Volume  \n",
              "count  2274.000000  2274.000000  2.274000e+03  \n",
              "mean    101.036327   103.461794  1.142089e+08  \n",
              "min       9.403333     9.578000  1.062000e+07  \n",
              "25%      16.468833    16.693666  6.637762e+07  \n",
              "50%      22.842334    23.197333  9.359855e+07  \n",
              "75%     208.983334   215.227497  1.338214e+08  \n",
              "max     405.666656   409.970001  9.140820e+08  \n",
              "std     108.399966   111.032019  7.688430e+07  "
            ]
          },
          "execution_count": 12,
          "metadata": {},
          "output_type": "execute_result"
        }
      ],
      "source": [
        "# Missing values\n",
        "print(df_raw.isnull().sum())\n",
        "\n",
        "# Summary statistics\n",
        "df_raw.describe()"
      ]
    },
    {
      "cell_type": "markdown",
      "metadata": {},
      "source": [
        "## 3. Visualize missingness"
      ]
    },
    {
      "cell_type": "code",
      "execution_count": 14,
      "metadata": {},
      "outputs": [
        {
          "data": {
            "text/plain": [
              "Text(0.5, 1.0, 'Missing Values Heatmap')"
            ]
          },
          "execution_count": 14,
          "metadata": {},
          "output_type": "execute_result"
        },
        {
          "data": {
            "image/png": "[encoded data removed]",
            "text/plain": [
              "<Figure size 800x400 with 1 Axes>"
            ]
          },
          "metadata": {},
          "output_type": "display_data"
        }
      ],
      "source": [
        "plt.figure(figsize=(8,4))\n",
        "sns.heatmap(df_raw.isnull(), cbar=False)\n",
        "plt.title(\"Missing Values Heatmap\")\n",
        "# plt.savefig(\"reports/figures/01_missing_heatmap.png\", bbox_inches=\"tight\")\n",
        "# plt.close()"
      ]
    },
    {
      "cell_type": "markdown",
      "metadata": {},
      "source": [
        "## 4. Drop or impute nulls"
      ]
    },
    {
      "cell_type": "code",
      "execution_count": 16,
      "metadata": {},
      "outputs": [
        {
          "name": "stdout",
          "output_type": "stream",
          "text": [
            "Nulls after fill:\n",
            "Date          0\n",
            "Unnamed: 0    0\n",
            "Open          0\n",
            "High          0\n",
            "Low           0\n",
            "Close         0\n",
            "Volume        0\n",
            "dtype: int64\n"
          ]
        }
      ],
      "source": [
        "# For this dataset, forward-fill then back-fill any remaining\n",
        "df_clean = df_raw.set_index(\"Date\").ffill().bfill().reset_index()\n",
        "print(\"Nulls after fill:\")\n",
        "print(df_clean.isnull().sum())"
      ]
    },
    {
      "cell_type": "markdown",
      "metadata": {},
      "source": [
        "## 5. Plot closing price time series"
      ]
    },
    {
      "cell_type": "code",
      "execution_count": 17,
      "metadata": {},
      "outputs": [],
      "source": [
        "plt.figure(figsize=(12,4))\n",
        "plt.plot(df_clean[\"Date\"], df_clean[\"Close\"], label=\"Close\")\n",
        "plt.title(\"Tesla Closing Price Over Time\")\n",
        "plt.xlabel(\"Date\")\n",
        "plt.ylabel(\"Price (USD)\")\n",
        "plt.legend()\n",
        "plt.savefig(\"reports/figures/01_close_timeseries.png\", bbox_inches=\"tight\")\n",
        "plt.close()"
      ]
    },
    {
      "cell_type": "markdown",
      "metadata": {},
      "source": [
        "## 6. Save cleaned data for next steps"
      ]
    },
    {
      "cell_type": "code",
      "execution_count": 18,
      "metadata": {},
      "outputs": [
        {
          "name": "stdout",
          "output_type": "stream",
          "text": [
            "Cleaned data saved to data/processed/tesla_cleaned.csv\n"
          ]
        }
      ],
      "source": [
        "out_path = \"data/processed/tesla_cleaned.csv\"\n",
        "df_clean.to_csv(out_path, index=False)\n",
        "print(f\"Cleaned data saved to {out_path}\")"
      ]
    }
  ],
  "metadata": {
    "kernelspec": {
      "display_name": "venv",
      "language": "python",
      "name": "python3"
    },
    "language_info": {
      "codemirror_mode": {
        "name": "ipython",
        "version": 3
      },
      "file_extension": ".py",
      "mimetype": "text/x-python",
      "name": "python",
      "nbconvert_exporter": "python",
      "pygments_lexer": "ipython3",
      "version": "3.12.3"
    }
  },
  "nbformat": 4,
  "nbformat_minor": 2
}

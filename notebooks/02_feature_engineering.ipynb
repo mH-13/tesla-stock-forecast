{
  "cells": [
    {
      "cell_type": "markdown",
      "metadata": {},
      "source": [
        "# 02_feature_engineering.ipynb  \n",
        "_Create technical features and visualize distributions_"
      ]
    },
    {
      "cell_type": "code",
      "execution_count": 1,
      "metadata": {},
      "outputs": [],
      "source": [
        "import os\n",
        "import pandas as pd\n",
        "import numpy as np\n",
        "import matplotlib.pyplot as plt\n",
        "import seaborn as sns\n",
        "\n",
        "# Ensure directories exist\n",
        "os.makedirs(\"data/processed\", exist_ok=True)\n",
        "os.makedirs(\"reports/figures\", exist_ok=True)"
      ]
    },
    {
      "cell_type": "markdown",
      "metadata": {},
      "source": [
        "## 1. Load cleaned data"
      ]
    },
    {
      "cell_type": "code",
      "execution_count": 2,
      "metadata": {},
      "outputs": [
        {
          "data": {
            "text/html": [
              "<div>\n",
              "<style scoped>\n",
              "    .dataframe tbody tr th:only-of-type {\n",
              "        vertical-align: middle;\n",
              "    }\n",
              "\n",
              "    .dataframe tbody tr th {\n",
              "        vertical-align: top;\n",
              "    }\n",
              "\n",
              "    .dataframe thead th {\n",
              "        text-align: right;\n",
              "    }\n",
              "</style>\n",
              "<table border=\"1\" class=\"dataframe\">\n",
              "  <thead>\n",
              "    <tr style=\"text-align: right;\">\n",
              "      <th></th>\n",
              "      <th>Unnamed: 0</th>\n",
              "      <th>Open</th>\n",
              "      <th>High</th>\n",
              "      <th>Low</th>\n",
              "      <th>Close</th>\n",
              "      <th>Volume</th>\n",
              "    </tr>\n",
              "    <tr>\n",
              "      <th>Date</th>\n",
              "      <th></th>\n",
              "      <th></th>\n",
              "      <th></th>\n",
              "      <th></th>\n",
              "      <th></th>\n",
              "      <th></th>\n",
              "    </tr>\n",
              "  </thead>\n",
              "  <tbody>\n",
              "    <tr>\n",
              "      <th>2015-01-02</th>\n",
              "      <td>0</td>\n",
              "      <td>14.858000</td>\n",
              "      <td>14.883333</td>\n",
              "      <td>14.217333</td>\n",
              "      <td>14.620667</td>\n",
              "      <td>71466000</td>\n",
              "    </tr>\n",
              "    <tr>\n",
              "      <th>2015-01-05</th>\n",
              "      <td>1</td>\n",
              "      <td>14.303333</td>\n",
              "      <td>14.433333</td>\n",
              "      <td>13.810667</td>\n",
              "      <td>14.006000</td>\n",
              "      <td>80527500</td>\n",
              "    </tr>\n",
              "    <tr>\n",
              "      <th>2015-01-06</th>\n",
              "      <td>2</td>\n",
              "      <td>14.004000</td>\n",
              "      <td>14.280000</td>\n",
              "      <td>13.614000</td>\n",
              "      <td>14.085333</td>\n",
              "      <td>93928500</td>\n",
              "    </tr>\n",
              "    <tr>\n",
              "      <th>2015-01-07</th>\n",
              "      <td>3</td>\n",
              "      <td>14.223333</td>\n",
              "      <td>14.318667</td>\n",
              "      <td>13.985333</td>\n",
              "      <td>14.063333</td>\n",
              "      <td>44526000</td>\n",
              "    </tr>\n",
              "    <tr>\n",
              "      <th>2015-01-08</th>\n",
              "      <td>4</td>\n",
              "      <td>14.187333</td>\n",
              "      <td>14.253333</td>\n",
              "      <td>14.000667</td>\n",
              "      <td>14.041333</td>\n",
              "      <td>51637500</td>\n",
              "    </tr>\n",
              "  </tbody>\n",
              "</table>\n",
              "</div>"
            ],
            "text/plain": [
              "            Unnamed: 0       Open       High        Low      Close    Volume\n",
              "Date                                                                        \n",
              "2015-01-02           0  14.858000  14.883333  14.217333  14.620667  71466000\n",
              "2015-01-05           1  14.303333  14.433333  13.810667  14.006000  80527500\n",
              "2015-01-06           2  14.004000  14.280000  13.614000  14.085333  93928500\n",
              "2015-01-07           3  14.223333  14.318667  13.985333  14.063333  44526000\n",
              "2015-01-08           4  14.187333  14.253333  14.000667  14.041333  51637500"
            ]
          },
          "execution_count": 2,
          "metadata": {},
          "output_type": "execute_result"
        }
      ],
      "source": [
        "import os\n",
        "os.chdir('..')  # Change directory to the project root\n",
        "\n",
        "\n",
        "clean_path = \"data/processed/tesla_cleaned.csv\"\n",
        "df = pd.read_csv(clean_path, parse_dates=[\"Date\"]).set_index(\"Date\")\n",
        "df.head()"
      ]
    },
    {
      "cell_type": "markdown",
      "metadata": {},
      "source": [
        "## 2. Feature engineering\n",
        "Compute moving averages, rolling volatility, and returns."
      ]
    },
    {
      "cell_type": "code",
      "execution_count": 3,
      "metadata": {},
      "outputs": [
        {
          "data": {
            "text/plain": [
              "(2244, 14)"
            ]
          },
          "execution_count": 3,
          "metadata": {},
          "output_type": "execute_result"
        }
      ],
      "source": [
        "def add_features(df):\n",
        "    df_feat = df.copy()\n",
        "    \n",
        "    # Moving averages\n",
        "    for w in [5, 10, 20]:\n",
        "        df_feat[f'MA_{w}'] = df_feat['Close'].rolling(w).mean()\n",
        "    # Rolling volatility (std dev)\n",
        "    for w in [5, 10, 20]:\n",
        "        df_feat[f'Vol_{w}'] = df_feat['Close'].rolling(w).std()\n",
        "    # Daily returns\n",
        "    df_feat['Return_1D'] = df_feat['Close'].pct_change()\n",
        "    # 30-day return\n",
        "    df_feat['Return_30D'] = df_feat['Close'].pct_change(30)\n",
        "    df_feat.dropna(inplace=True)\n",
        "    return df_feat\n",
        "\n",
        "df_feat = add_features(df)\n",
        "df_feat.shape\n",
        "\n",
        "#Documentation:\n",
        "# The `add_features` function enhances the DataFrame with technical indicators:\n",
        "# - Moving averages for 5, 10, and 20 days which means the average closing price over these periods. useful for identifying trends and smoothing out price fluctuations. \n",
        "# - Rolling volatility (standard deviation) for 5, 10, and 20 days Which measures the variability of the stock price over these periods, helping to assess risk. useful for understanding how much the stock price fluctuates over time.\n",
        "# - Daily returns which measures the percentage change in the stock price from one day to the next. useful for understanding short-term price movements.\n",
        "# - 30-day returns which measures the percentage change in the stock price over a longer period, useful for understanding medium-term trends."
      ]
    },
    {
      "cell_type": "markdown",
      "metadata": {},
      "source": [
        "## 3. Visualize rolling statistics"
      ]
    },
    {
      "cell_type": "code",
      "execution_count": 4,
      "metadata": {},
      "outputs": [],
      "source": [
        "def plot_rolling(df, window):\n",
        "    fig, ax = plt.subplots(figsize=(12,4))\n",
        "    ax.plot(df.index, df['Close'], label='Close')\n",
        "    ax.plot(df.index, df['Close'].rolling(window).mean(), label=f'MA{window}')\n",
        "    ax.plot(df.index, df['Close'].rolling(window).std(), label=f'STD{window}')\n",
        "    ax.set_title(f'Rolling Mean & Std (window={window} days)')\n",
        "    ax.legend()\n",
        "    fig.savefig(f'reports/figures/02_rolling_{window}.png', bbox_inches='tight')\n",
        "    plt.close(fig)\n",
        "\n",
        "for w in [5, 20, 60]:\n",
        "    plot_rolling(df, w)"
      ]
    },
    {
      "cell_type": "markdown",
      "metadata": {},
      "source": [
        "## 4. Visualize feature distributions"
      ]
    },
    {
      "cell_type": "code",
      "execution_count": 7,
      "metadata": {},
      "outputs": [],
      "source": [
        "features = ['MA_5','MA_10','MA_20','Vol_5','Vol_10','Vol_20','Return_1D','Return_30D']\n",
        "for feat in features:\n",
        "    fig, ax = plt.subplots(figsize=(6,4))\n",
        "    sns.histplot(df_feat[feat], bins=50, kde=True, ax=ax)\n",
        "    ax.set_title(f'Distribution of {feat}')\n",
        "    fig.savefig(f'reports/figures/02_dist_{feat}.png', bbox_inches='tight')\n",
        "    plt.close(fig)"
      ]
    },
    {
      "cell_type": "markdown",
      "metadata": {},
      "source": [
        "## 5. Save engineered features"
      ]
    },
    {
      "cell_type": "code",
      "execution_count": 8,
      "metadata": {},
      "outputs": [
        {
          "name": "stdout",
          "output_type": "stream",
          "text": [
            "Engineered features saved to data/processed/tesla_features.csv\n"
          ]
        }
      ],
      "source": [
        "out_feat = \"data/processed/tesla_features.csv\"\n",
        "df_feat.reset_index().to_csv(out_feat, index=False)\n",
        "print(f\"Engineered features saved to {out_feat}\")"
      ]
    }
  ],
  "metadata": {
    "kernelspec": {
      "display_name": "venv",
      "language": "python",
      "name": "python3"
    },
    "language_info": {
      "codemirror_mode": {
        "name": "ipython",
        "version": 3
      },
      "file_extension": ".py",
      "mimetype": "text/x-python",
      "name": "python",
      "nbconvert_exporter": "python",
      "pygments_lexer": "ipython3",
      "version": "3.12.3"
    }
  },
  "nbformat": 4,
  "nbformat_minor": 2
}
